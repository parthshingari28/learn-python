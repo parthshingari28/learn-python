{
 "cells": [
  {
   "cell_type": "markdown",
   "metadata": {},
   "source": [
    "# Lecture 1 (learn python)"
   ]
  },
  {
   "cell_type": "markdown",
   "metadata": {},
   "source": [
    "**Note: In python, everything is an object.**"
   ]
  },
  {
   "cell_type": "markdown",
   "metadata": {},
   "source": [
    "In python, data type is determined at runtime ."
   ]
  },
  {
   "cell_type": "code",
   "execution_count": 3,
   "metadata": {},
   "outputs": [
    {
     "name": "stdout",
     "output_type": "stream",
     "text": [
      "28\n"
     ]
    }
   ],
   "source": [
    "a = 28\n",
    "print(a)"
   ]
  },
  {
   "cell_type": "code",
   "execution_count": 4,
   "metadata": {},
   "outputs": [
    {
     "data": {
      "text/plain": [
       "int"
      ]
     },
     "execution_count": 4,
     "metadata": {},
     "output_type": "execute_result"
    }
   ],
   "source": [
    "type(a)"
   ]
  },
  {
   "cell_type": "code",
   "execution_count": 5,
   "metadata": {},
   "outputs": [
    {
     "name": "stdout",
     "output_type": "stream",
     "text": [
      "parth\n"
     ]
    }
   ],
   "source": [
    "a = \"parth\"\n",
    "print(a)"
   ]
  },
  {
   "cell_type": "code",
   "execution_count": 6,
   "metadata": {},
   "outputs": [
    {
     "data": {
      "text/plain": [
       "str"
      ]
     },
     "execution_count": 6,
     "metadata": {},
     "output_type": "execute_result"
    }
   ],
   "source": [
    "type(a)"
   ]
  },
  {
   "cell_type": "markdown",
   "metadata": {},
   "source": [
    "So, that's why we are able to do above to variable \"a\" i.e first we allocated integer value to \"a\" then string value.\n",
    "It runs without showing any error due to **dynamic behaviour of python.**"
   ]
  },
  {
   "cell_type": "markdown",
   "metadata": {},
   "source": [
    "# Memory allocation :-"
   ]
  },
  {
   "cell_type": "markdown",
   "metadata": {},
   "source": [
    "In python, \"a\" is known as refernce variable and \"28\" is object.\n",
    "Refernce variable is stored in stack and objects are stored in heap memory."
   ]
  },
  {
   "cell_type": "markdown",
   "metadata": {},
   "source": [
    "**What will happen to 28 ?**"
   ]
  },
  {
   "cell_type": "markdown",
   "metadata": {},
   "source": [
    "The object that has no reference variable pointing to it is removed from memory/RAM. When garbage collection hits."
   ]
  },
  {
   "cell_type": "markdown",
   "metadata": {},
   "source": [
    "**Note: More than one references can point to same object but one refernce variable cannot reference to two objects.**"
   ]
  },
  {
   "cell_type": "code",
   "execution_count": 7,
   "metadata": {},
   "outputs": [],
   "source": [
    "baby = \"I love you vasu!\""
   ]
  },
  {
   "cell_type": "code",
   "execution_count": 8,
   "metadata": {},
   "outputs": [
    {
     "name": "stdout",
     "output_type": "stream",
     "text": [
      "I love you vasu!\n"
     ]
    }
   ],
   "source": [
    "print(baby)"
   ]
  },
  {
   "cell_type": "code",
   "execution_count": 9,
   "metadata": {},
   "outputs": [],
   "source": [
    "#suppose now baby had a break-up with vasu and his new bf is jaanu.\n",
    "baby = \"I love you jaanu!\""
   ]
  },
  {
   "cell_type": "code",
   "execution_count": 10,
   "metadata": {},
   "outputs": [
    {
     "name": "stdout",
     "output_type": "stream",
     "text": [
      "I love you jaanu!\n"
     ]
    }
   ],
   "source": [
    "print(baby)"
   ]
  },
  {
   "cell_type": "code",
   "execution_count": 11,
   "metadata": {},
   "outputs": [],
   "source": [
    "#This proves \"NO Two Sided love is allowed!\" in python."
   ]
  },
  {
   "cell_type": "code",
   "execution_count": 16,
   "metadata": {},
   "outputs": [],
   "source": [
    "baby_1 = \"I love you jaanu!\""
   ]
  },
  {
   "cell_type": "code",
   "execution_count": 17,
   "metadata": {},
   "outputs": [
    {
     "name": "stdout",
     "output_type": "stream",
     "text": [
      "I love you jaanu!\n"
     ]
    }
   ],
   "source": [
    "print(baby_1)"
   ]
  },
  {
   "cell_type": "code",
   "execution_count": 18,
   "metadata": {},
   "outputs": [],
   "source": [
    "baby_2 = \"I love you jaanu!\""
   ]
  },
  {
   "cell_type": "code",
   "execution_count": 19,
   "metadata": {},
   "outputs": [
    {
     "name": "stdout",
     "output_type": "stream",
     "text": [
      "I love you jaanu!\n"
     ]
    }
   ],
   "source": [
    "print(baby_2)"
   ]
  },
  {
   "cell_type": "code",
   "execution_count": 20,
   "metadata": {},
   "outputs": [],
   "source": [
    "baby_3 = \"I love you jaanu!\""
   ]
  },
  {
   "cell_type": "code",
   "execution_count": 21,
   "metadata": {},
   "outputs": [
    {
     "name": "stdout",
     "output_type": "stream",
     "text": [
      "I love you jaanu!\n"
     ]
    }
   ],
   "source": [
    "print(baby_3)"
   ]
  },
  {
   "cell_type": "code",
   "execution_count": 22,
   "metadata": {},
   "outputs": [],
   "source": [
    "#This proves \"More than one references can point to same object.\""
   ]
  },
  {
   "cell_type": "markdown",
   "metadata": {},
   "source": [
    "**Difference b/w \"==\" and \"is\" ?**"
   ]
  },
  {
   "cell_type": "markdown",
   "metadata": {},
   "source": [
    "\"==\" implies comparing of values whereas \"is\" implies comparing references."
   ]
  },
  {
   "cell_type": "code",
   "execution_count": 23,
   "metadata": {},
   "outputs": [],
   "source": [
    "# a -> 10\n",
    "# b -> 10\n",
    "# Then a==b //True\n",
    "# a is b //False (different references)"
   ]
  },
  {
   "cell_type": "code",
   "execution_count": 24,
   "metadata": {},
   "outputs": [],
   "source": [
    "# a -> 10 <- b\n",
    "# Then a==b //True\n",
    "# and a is b //True (same references)"
   ]
  },
  {
   "cell_type": "code",
   "execution_count": 25,
   "metadata": {},
   "outputs": [],
   "source": [
    "a = 10\n",
    "b = 10"
   ]
  },
  {
   "cell_type": "code",
   "execution_count": 26,
   "metadata": {},
   "outputs": [
    {
     "data": {
      "text/plain": [
       "True"
      ]
     },
     "execution_count": 26,
     "metadata": {},
     "output_type": "execute_result"
    }
   ],
   "source": [
    "a == b"
   ]
  },
  {
   "cell_type": "code",
   "execution_count": 27,
   "metadata": {},
   "outputs": [
    {
     "data": {
      "text/plain": [
       "True"
      ]
     },
     "execution_count": 27,
     "metadata": {},
     "output_type": "execute_result"
    }
   ],
   "source": [
    "a is b"
   ]
  },
  {
   "cell_type": "code",
   "execution_count": 28,
   "metadata": {},
   "outputs": [],
   "source": [
    "a = 2814\n",
    "b = 2814"
   ]
  },
  {
   "cell_type": "code",
   "execution_count": 29,
   "metadata": {},
   "outputs": [
    {
     "data": {
      "text/plain": [
       "True"
      ]
     },
     "execution_count": 29,
     "metadata": {},
     "output_type": "execute_result"
    }
   ],
   "source": [
    "a == b"
   ]
  },
  {
   "cell_type": "code",
   "execution_count": 30,
   "metadata": {},
   "outputs": [
    {
     "data": {
      "text/plain": [
       "False"
      ]
     },
     "execution_count": 30,
     "metadata": {},
     "output_type": "execute_result"
    }
   ],
   "source": [
    "a is b"
   ]
  },
  {
   "cell_type": "markdown",
   "metadata": {},
   "source": [
    "**Note: In python, values from -6 to 256 are reserved by python i.e it would point to already made variables in python in between these values.**"
   ]
  },
  {
   "cell_type": "markdown",
   "metadata": {},
   "source": [
    "**Why are these values reserved ?**"
   ]
  },
  {
   "cell_type": "markdown",
   "metadata": {},
   "source": [
    "These are very frequently used values. And to make program more efficient and fast, these values are reserved by python."
   ]
  },
  {
   "cell_type": "markdown",
   "metadata": {},
   "source": [
    "# Size :-"
   ]
  },
  {
   "cell_type": "markdown",
   "metadata": {},
   "source": [
    "Size of int is 4bytes in general ."
   ]
  },
  {
   "cell_type": "code",
   "execution_count": 32,
   "metadata": {},
   "outputs": [],
   "source": [
    "a = 10"
   ]
  },
  {
   "cell_type": "code",
   "execution_count": 33,
   "metadata": {},
   "outputs": [
    {
     "data": {
      "text/plain": [
       "int"
      ]
     },
     "execution_count": 33,
     "metadata": {},
     "output_type": "execute_result"
    }
   ],
   "source": [
    "type(a)"
   ]
  },
  {
   "cell_type": "code",
   "execution_count": 34,
   "metadata": {},
   "outputs": [],
   "source": [
    "a = 987645"
   ]
  },
  {
   "cell_type": "code",
   "execution_count": 35,
   "metadata": {},
   "outputs": [
    {
     "data": {
      "text/plain": [
       "int"
      ]
     },
     "execution_count": 35,
     "metadata": {},
     "output_type": "execute_result"
    }
   ],
   "source": [
    "type(a)"
   ]
  },
  {
   "cell_type": "code",
   "execution_count": 36,
   "metadata": {},
   "outputs": [],
   "source": [
    "b = a ** 10"
   ]
  },
  {
   "cell_type": "code",
   "execution_count": 37,
   "metadata": {},
   "outputs": [
    {
     "name": "stdout",
     "output_type": "stream",
     "text": [
      "883097579493751535508859662496934879663163670467042978515625\n"
     ]
    }
   ],
   "source": [
    "print(b)"
   ]
  },
  {
   "cell_type": "code",
   "execution_count": 38,
   "metadata": {},
   "outputs": [
    {
     "data": {
      "text/plain": [
       "int"
      ]
     },
     "execution_count": 38,
     "metadata": {},
     "output_type": "execute_result"
    }
   ],
   "source": [
    "type(b)"
   ]
  },
  {
   "cell_type": "code",
   "execution_count": 39,
   "metadata": {},
   "outputs": [],
   "source": [
    "c = b ** 100"
   ]
  },
  {
   "cell_type": "code",
   "execution_count": 40,
   "metadata": {},
   "outputs": [
    {
     "name": "stdout",
     "output_type": "stream",
     "text": [
      "3989049631248771698495461870781226498736902414377298265274420403111920495817937486524397108162120988406481956761017122210258791750250703720432166667373103222292575100845017680355959632952581432298304087601004527477074700097698356862151409499373506896265117322799947956730901989754438110098603633823255024443387176340374875212382526909907909507972169695945739742284773518778189182378558124249206976515907006862894619637407458072647543222555892763484325266624041667983129516595056772558842218206645323599936388584964306447388776676110475967361284677667888187684502219803235793711216155691837597787100229335015033500904467068592432778145189505639340168614966050248718427072496395593074228567456242251092797680651228155707045417509303768182416103501683113466709691356296251439980468299924230029143477931619446182893235965888841902713988647391361509017868075291628041421003467365813350089057951327935592389113991783153360359294796445258806496713661247801909619321727310058961181239689378830611141524779628466099051259849838230858103465866368425620012340198074780235653197216520499885518056317078387719811756144179050255048697009082403125891381976032907333413280684556537055848544215417219513169063561188717651257282232607739042091003681482882960492918296956853816179839925842594272354085027852963403271882358440145978202372594856574953949180953555188545794744481341249904522816612385046933064151104200015236787607627478490158408253240454590578864774793633865319546521205601823263122954931395609338040341296524627779842018221897346741069181029007610553044031235809245173464242120158087280751796776445432812077714383196101033447805658235413242869532307897123382988985040401604360368184479007921278578906241935707047595582411508443792628304898518738064311678140641728065283348847765737688990438612679383524537053807054043564344846034712626933598977964449739612527469241558689363107643333841742128268238840157253826752384651040973341174157233786523167623421744003966495118858547953321053759778140787727143290520821133028592186970003744738609808592952627672784129702759931174081673035437642002673718369445006571327099600534602749027864959045238115445616493773382280703550866822695978612287935957971573758735246545784861143267756022069544281219092753004169769193215082492679357931180851790004349750005988337903734587608330267045987013659542818671039343712935708845027727314097364597811703350002948217717435845393675932526336794359692698052584506019438924471698745978030560278779859424809203952022316637894517141248752239715202687107567073013737017154214528135353272615399154529153331690253271987569372064663360625251707687859827653387355001473152610211226938427433476279718619522642814812813194032193436525892531151720217854913252440023007579606366369823665996649538397872428299904775673981522114782213675514495930288565893301491658259429189389871845135396486296905064355271140758947931054870892367013936231052675090362873909242092279222366482099642054223197263047045878813721250521124506227985979894995874005859991461914932400390318068734102705686556428128765669183764123563767740680597120663133528228917418911553106818232752667726454056660619978384468086067969078042947473505979421580740613298506639227316440239509388371480307197264989098398515876098392239092619370308661326926442863363836555464482564508008454655872421158213455895496217826061252670703576071685284754650604066741068599189049472512674414880422099761693596146021361275430359791535639240396043210451859001811419047775021384675713049270043569727964163581811869623798942554291710857690280158899813582500001370523710981218492860753807059758998978163182186651835993249876177826899102111285936873451193577824075859341970954646653452320290489607287937973508547382446096436527388799492578473232508789295171434754735946600275751463107551374018440630043747385342443040385540160834899112642685288025494837149641485679399118419641123347934538107540378002272710365864909091783976781597120655392963663971797234179926439879437911268623545320040244151215437329599156715328027716748707245697639077573349868889285233380908623439697364597124482209200729095529628128752570640421605657715226288035755539866948838198641968045163879759950268412638399217012680464521239156969387595313612525235154591344708415394972832427930409778183438788025422959354324413182606451332570658603821214837333157668954094826349679181244796003059968588635914309374778695672209559359048769358186793208225367264300374902865124152059886698175374787960151049310662580834097265924552965768364626934142657459864774337364512464356890390681174838682466620838940125710749370134701635958412993016848230219726058372524850355303949046079304518173164915652716884406691628780810551750833768975098742335257006817914435373689528389684908269183832338642116979561231805397111543407598792394128319019746011488028197023372595552482698316486598414275792924415545573353416708280166260402745101100845692617644419745141838796144298846072896087893784558190726412843224408575888423543922605974022822779123374469168725559014454954803523612868276095263517594346195042245715733409434367572736762022284447747072280678233705749289510296169803117840783900724157350986818829131524441795176877259450109130594719643489893917604124987745336563113820736634411363963166227730748860614786782795073161936322602186664645289747290030927562961825652619471076622912155450524881799820046885165768900945441718711069273078213577065289797787014130073413938687215045893048501976339484194705188012850380361262781351125923190059480319704484126024363997288641391216032548350528693458569331996142518255127121153341874545914621168609240574693776578317216695383876323592320811541321944411037057170307522887546227533332861149062030745567746086817252819751688165119493242762746781791523482170642050268376590456979649103779579522919602702370701712857158369959902711205003705092769288180088588020600573297935955953577508195031851127269805094445481205026858773421608621351212823913463354403341189509239229915582569674370461143553256988525390625\n"
     ]
    }
   ],
   "source": [
    "print(c)"
   ]
  },
  {
   "cell_type": "code",
   "execution_count": 41,
   "metadata": {},
   "outputs": [
    {
     "data": {
      "text/plain": [
       "int"
      ]
     },
     "execution_count": 41,
     "metadata": {},
     "output_type": "execute_result"
    }
   ],
   "source": [
    "type(c)"
   ]
  },
  {
   "cell_type": "markdown",
   "metadata": {},
   "source": [
    "**This proves that size of int in python is not fixed!**"
   ]
  },
  {
   "cell_type": "markdown",
   "metadata": {},
   "source": [
    "In python, size is how much RAM you have in computer ."
   ]
  },
  {
   "cell_type": "markdown",
   "metadata": {},
   "source": [
    "This is one of reason for slow behavior of python."
   ]
  },
  {
   "cell_type": "markdown",
   "metadata": {},
   "source": [
    "**Strongly typed VS Loosely typed ?**"
   ]
  },
  {
   "cell_type": "code",
   "execution_count": 42,
   "metadata": {},
   "outputs": [],
   "source": [
    "#Strongly -> Python\n",
    "#Loosely -> C"
   ]
  },
  {
   "cell_type": "markdown",
   "metadata": {},
   "source": [
    "Like if we are performing a function on two or more variables, then if it checks data type before runing it. Then it is called strongly types else loosely one."
   ]
  },
  {
   "cell_type": "code",
   "execution_count": 43,
   "metadata": {},
   "outputs": [
    {
     "ename": "TypeError",
     "evalue": "unsupported operand type(s) for +: 'int' and 'str'",
     "output_type": "error",
     "traceback": [
      "\u001b[1;31m---------------------------------------------------------------------------\u001b[0m",
      "\u001b[1;31mTypeError\u001b[0m                                 Traceback (most recent call last)",
      "\u001b[1;32m<ipython-input-43-147c9ce0d8b1>\u001b[0m in \u001b[0;36m<module>\u001b[1;34m\u001b[0m\n\u001b[0;32m      2\u001b[0m \u001b[0ma\u001b[0m \u001b[1;33m=\u001b[0m \u001b[1;36m10\u001b[0m\u001b[1;33m\u001b[0m\u001b[1;33m\u001b[0m\u001b[0m\n\u001b[0;32m      3\u001b[0m \u001b[0mb\u001b[0m \u001b[1;33m=\u001b[0m \u001b[1;34m\"parth\"\u001b[0m\u001b[1;33m\u001b[0m\u001b[1;33m\u001b[0m\u001b[0m\n\u001b[1;32m----> 4\u001b[1;33m \u001b[0ma\u001b[0m \u001b[1;33m+\u001b[0m \u001b[0mb\u001b[0m\u001b[1;33m\u001b[0m\u001b[1;33m\u001b[0m\u001b[0m\n\u001b[0m",
      "\u001b[1;31mTypeError\u001b[0m: unsupported operand type(s) for +: 'int' and 'str'"
     ]
    }
   ],
   "source": [
    "#Strongly typed -> Python\n",
    "a = 10\n",
    "b = \"parth\"\n",
    "a + b"
   ]
  },
  {
   "cell_type": "code",
   "execution_count": 44,
   "metadata": {},
   "outputs": [],
   "source": [
    "# \"TypeError\", this proves python is strongly typed language."
   ]
  },
  {
   "cell_type": "code",
   "execution_count": 45,
   "metadata": {},
   "outputs": [],
   "source": [
    "#Loosely typed -> C\n",
    "# a = 10\n",
    "# b = \"parth\"\n",
    "# a+b"
   ]
  },
  {
   "cell_type": "code",
   "execution_count": 46,
   "metadata": {},
   "outputs": [],
   "source": [
    "# \"NoError\" i.e will give someoutput"
   ]
  },
  {
   "cell_type": "markdown",
   "metadata": {},
   "source": [
    "**Floor division (//) i.e it will give integer value**"
   ]
  },
  {
   "cell_type": "code",
   "execution_count": 47,
   "metadata": {},
   "outputs": [],
   "source": [
    "a = 3\n",
    "b = 2"
   ]
  },
  {
   "cell_type": "code",
   "execution_count": 48,
   "metadata": {},
   "outputs": [
    {
     "data": {
      "text/plain": [
       "1.5"
      ]
     },
     "execution_count": 48,
     "metadata": {},
     "output_type": "execute_result"
    }
   ],
   "source": [
    "a / b"
   ]
  },
  {
   "cell_type": "code",
   "execution_count": 49,
   "metadata": {},
   "outputs": [
    {
     "data": {
      "text/plain": [
       "1"
      ]
     },
     "execution_count": 49,
     "metadata": {},
     "output_type": "execute_result"
    }
   ],
   "source": [
    "a//b\n",
    "#Floor division"
   ]
  },
  {
   "cell_type": "markdown",
   "metadata": {},
   "source": [
    "# Enjoyed this lecture ?"
   ]
  },
  {
   "cell_type": "markdown",
   "metadata": {},
   "source": [
    "Star it on [github](https://github.com/parthshingari28/learn-python)!"
   ]
  },
  {
   "cell_type": "markdown",
   "metadata": {},
   "source": [
    "# Reach out at !"
   ]
  },
  {
   "cell_type": "markdown",
   "metadata": {},
   "source": [
    "[@parthshingari28](https://github.com/parthshingari28)!"
   ]
  }
 ],
 "metadata": {
  "kernelspec": {
   "display_name": "Python 3",
   "language": "python",
   "name": "python3"
  },
  "language_info": {
   "codemirror_mode": {
    "name": "ipython",
    "version": 3
   },
   "file_extension": ".py",
   "mimetype": "text/x-python",
   "name": "python",
   "nbconvert_exporter": "python",
   "pygments_lexer": "ipython3",
   "version": "3.7.3"
  }
 },
 "nbformat": 4,
 "nbformat_minor": 4
}
