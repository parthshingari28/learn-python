{
 "cells": [
  {
   "cell_type": "markdown",
   "metadata": {},
   "source": [
    "# Sorting - Lists, Tuples and Objects"
   ]
  },
  {
   "cell_type": "markdown",
   "metadata": {},
   "source": [
    "### List Sorting :"
   ]
  },
  {
   "cell_type": "code",
   "execution_count": 1,
   "metadata": {},
   "outputs": [],
   "source": [
    "list_1 = [9, 1, 8, 5, 4, 6, 3, 7]"
   ]
  },
  {
   "cell_type": "code",
   "execution_count": 2,
   "metadata": {},
   "outputs": [],
   "source": [
    "# there are two ways to do sorting in lists"
   ]
  },
  {
   "cell_type": "code",
   "execution_count": 4,
   "metadata": {},
   "outputs": [],
   "source": [
    "# 1st way : using sorted()\n",
    "new_list = sorted(list_1)"
   ]
  },
  {
   "cell_type": "code",
   "execution_count": 5,
   "metadata": {},
   "outputs": [
    {
     "name": "stdout",
     "output_type": "stream",
     "text": [
      "sorted list:  [1, 3, 4, 5, 6, 7, 8, 9]\n",
      "original list:  [9, 1, 8, 5, 4, 6, 3, 7]\n"
     ]
    }
   ],
   "source": [
    "print('sorted list: ', new_list)\n",
    "print('original list: ', list_1)"
   ]
  },
  {
   "cell_type": "code",
   "execution_count": 6,
   "metadata": {},
   "outputs": [],
   "source": [
    "# advantage of sorted() : it doesn't sorts the original lists"
   ]
  },
  {
   "cell_type": "code",
   "execution_count": 7,
   "metadata": {},
   "outputs": [],
   "source": [
    "# 2nd way : sort() method\n",
    "list_1.sort()"
   ]
  },
  {
   "cell_type": "code",
   "execution_count": 8,
   "metadata": {},
   "outputs": [
    {
     "name": "stdout",
     "output_type": "stream",
     "text": [
      "[1, 3, 4, 5, 6, 7, 8, 9]\n"
     ]
    }
   ],
   "source": [
    "print(list_1)"
   ]
  },
  {
   "cell_type": "code",
   "execution_count": 9,
   "metadata": {},
   "outputs": [
    {
     "name": "stdout",
     "output_type": "stream",
     "text": [
      "[9, 1, 8, 5, 4, 6, 3, 7, 2, 0]\n"
     ]
    }
   ],
   "source": [
    "# sorting using sorted() function is not inplace\n",
    "list_2 = [9, 1, 8, 5, 4, 6, 3, 7, 2, 0]\n",
    "sorted(list_2)\n",
    "print(list_2)"
   ]
  },
  {
   "cell_type": "code",
   "execution_count": 10,
   "metadata": {},
   "outputs": [],
   "source": [
    "# by default sorting is ascending order"
   ]
  },
  {
   "cell_type": "code",
   "execution_count": 11,
   "metadata": {},
   "outputs": [
    {
     "name": "stdout",
     "output_type": "stream",
     "text": [
      "[9, 8, 7, 6, 5, 4, 3, 1]\n"
     ]
    }
   ],
   "source": [
    "# sorting in descending order\n",
    "new_list = sorted(list_1, reverse = True)\n",
    "print(new_list)"
   ]
  },
  {
   "cell_type": "code",
   "execution_count": 12,
   "metadata": {},
   "outputs": [
    {
     "name": "stdout",
     "output_type": "stream",
     "text": [
      "[9, 8, 7, 6, 5, 4, 3, 1]\n"
     ]
    }
   ],
   "source": [
    "list_1.sort(reverse = True)\n",
    "print(list_1)"
   ]
  },
  {
   "cell_type": "markdown",
   "metadata": {},
   "source": [
    "## Tuple Sorting :"
   ]
  },
  {
   "cell_type": "code",
   "execution_count": 18,
   "metadata": {},
   "outputs": [],
   "source": [
    "tup = (-9, 1, -8, -7, 3, 2, 5, -6)"
   ]
  },
  {
   "cell_type": "code",
   "execution_count": 19,
   "metadata": {},
   "outputs": [],
   "source": [
    "# throw error\n",
    "# tup.sort()"
   ]
  },
  {
   "cell_type": "code",
   "execution_count": 20,
   "metadata": {},
   "outputs": [
    {
     "name": "stdout",
     "output_type": "stream",
     "text": [
      "sorted tuple:  [-9, -8, -7, -6, 1, 2, 3, 5]\n",
      "original tuple:  (-9, 1, -8, -7, 3, 2, 5, -6)\n"
     ]
    }
   ],
   "source": [
    "new_tup = sorted(tup)\n",
    "print(\"sorted tuple: \", new_tup)\n",
    "print(\"original tuple: \", tup)"
   ]
  },
  {
   "cell_type": "markdown",
   "metadata": {},
   "source": [
    "## Dictionary Sorting :"
   ]
  },
  {
   "cell_type": "code",
   "execution_count": 44,
   "metadata": {},
   "outputs": [],
   "source": [
    "dictionary = {'name' : 'Parth', 'job' : 'Developer', 'age' : 21, 'os' : 'Windows'}"
   ]
  },
  {
   "cell_type": "code",
   "execution_count": 45,
   "metadata": {},
   "outputs": [
    {
     "name": "stdout",
     "output_type": "stream",
     "text": [
      "['age', 'job', 'name', 'os']\n"
     ]
    }
   ],
   "source": [
    "sort_dictionary = sorted(dictionary)\n",
    "print(sort_dictionary)"
   ]
  },
  {
   "cell_type": "markdown",
   "metadata": {},
   "source": [
    "## Customize Sorting :"
   ]
  },
  {
   "cell_type": "code",
   "execution_count": 21,
   "metadata": {},
   "outputs": [
    {
     "name": "stdout",
     "output_type": "stream",
     "text": [
      "[1, 2, 3, 5, -6, -7, -8, -9]\n"
     ]
    }
   ],
   "source": [
    "# suppose we want to customize sorting i.e we want to sort on basis of absolute values\n",
    "new_tup = sorted(tup, key = abs)\n",
    "print(new_tup)"
   ]
  },
  {
   "cell_type": "code",
   "execution_count": 23,
   "metadata": {},
   "outputs": [],
   "source": [
    "class employee():\n",
    "    def __init__(self, name, age, salary):\n",
    "        self.name = name\n",
    "        self.age = age\n",
    "        self.salary = salary\n",
    "    def __repr__(self):\n",
    "        return '{}, {}, ${}'.format(self.name, self.age, self.salary)"
   ]
  },
  {
   "cell_type": "code",
   "execution_count": 30,
   "metadata": {},
   "outputs": [],
   "source": [
    "e1 = employee('rahul', 28, 70000)\n",
    "e2 = employee('abhi', 21, 65000)\n",
    "e3 = employee('kavi', 32, 98000)"
   ]
  },
  {
   "cell_type": "code",
   "execution_count": 31,
   "metadata": {},
   "outputs": [],
   "source": [
    "employees = [e1, e2, e3]"
   ]
  },
  {
   "cell_type": "code",
   "execution_count": 32,
   "metadata": {},
   "outputs": [],
   "source": [
    "# throw an error\n",
    "# sorted_employees = sorted(employees)"
   ]
  },
  {
   "cell_type": "code",
   "execution_count": 33,
   "metadata": {},
   "outputs": [
    {
     "name": "stdout",
     "output_type": "stream",
     "text": [
      "[abhi, 21, $65000, kavi, 32, $98000, rahul, 28, $70000]\n"
     ]
    }
   ],
   "source": [
    "# 1st way to do sorting\n",
    "def sort_emp(emp):\n",
    "    return emp.name\n",
    "\n",
    "sorted_employees = sorted(employees, key = sort_emp)\n",
    "\n",
    "print(sorted_employees)"
   ]
  },
  {
   "cell_type": "code",
   "execution_count": 34,
   "metadata": {},
   "outputs": [
    {
     "name": "stdout",
     "output_type": "stream",
     "text": [
      "[abhi, 21, $65000, rahul, 28, $70000, kavi, 32, $98000]\n"
     ]
    }
   ],
   "source": [
    "# 2nd way : using lambda function\n",
    "sorted_employees = sorted(employees, key = lambda e: e.age)\n",
    "print(sorted_employees)"
   ]
  },
  {
   "cell_type": "code",
   "execution_count": 35,
   "metadata": {},
   "outputs": [
    {
     "name": "stdout",
     "output_type": "stream",
     "text": [
      "[kavi, 32, $98000, rahul, 28, $70000, abhi, 21, $65000]\n"
     ]
    }
   ],
   "source": [
    "# doing sorting in descending order of age\n",
    "sorted_employees = sorted(employees, key = lambda e: e.age, reverse = True)\n",
    "print(sorted_employees)"
   ]
  },
  {
   "cell_type": "code",
   "execution_count": 36,
   "metadata": {},
   "outputs": [],
   "source": [
    "# 3rd way : using attrgetter\n",
    "from operator import attrgetter"
   ]
  },
  {
   "cell_type": "code",
   "execution_count": 37,
   "metadata": {},
   "outputs": [
    {
     "name": "stdout",
     "output_type": "stream",
     "text": [
      "[abhi, 21, $65000, rahul, 28, $70000, kavi, 32, $98000]\n"
     ]
    }
   ],
   "source": [
    "# sorting on basis of salary\n",
    "sorted_employees = sorted(employees, key = attrgetter('salary'))\n",
    "print(sorted_employees)"
   ]
  },
  {
   "cell_type": "markdown",
   "metadata": {},
   "source": [
    "# Enjoyed this lecture ?"
   ]
  },
  {
   "cell_type": "markdown",
   "metadata": {},
   "source": [
    "**Star it on [github](https://github.com/parthshingari28/learn-python)!**"
   ]
  },
  {
   "cell_type": "markdown",
   "metadata": {},
   "source": [
    "# Reach out at !"
   ]
  },
  {
   "cell_type": "markdown",
   "metadata": {},
   "source": [
    "**[@parthshingari28](https://github.com/parthshingari28)**"
   ]
  }
 ],
 "metadata": {
  "kernelspec": {
   "display_name": "Python 3",
   "language": "python",
   "name": "python3"
  },
  "language_info": {
   "codemirror_mode": {
    "name": "ipython",
    "version": 3
   },
   "file_extension": ".py",
   "mimetype": "text/x-python",
   "name": "python",
   "nbconvert_exporter": "python",
   "pygments_lexer": "ipython3",
   "version": "3.7.3"
  }
 },
 "nbformat": 4,
 "nbformat_minor": 4
}
